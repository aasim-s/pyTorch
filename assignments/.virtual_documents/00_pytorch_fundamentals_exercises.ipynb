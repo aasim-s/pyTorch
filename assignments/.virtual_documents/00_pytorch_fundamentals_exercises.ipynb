


# No code solution (reading)





# Import torch
import torch

# Create random tensor
tensor_A = torch.rand(size=(7, 7))





# Create another random tensor
tensor_B = torch.rand(size=(1, 7))
# Perform matrix multiplication 
tensor_A @ tensor_B.T





# Set manual seed
MANUAL_SEED = 0
torch.manual_seed(seed=MANUAL_SEED)
# Create two random tensors
tensor_C = torch.rand(7, 7)
tensor_D = torch.rand(1 ,7)
# Matrix multiply tensors
tensor_C @ tensor_D.T





# Set random seed on the GPU
torch.cuda.manual_seed(1234)





# Set random seed
MANUAL_SEED = 1234
torch.manual_seed(seed = MANUAL_SEED)
# Check for access to GPU
device = 'cuda' if torch.cuda.is_available() else 'cpu'
# Create two random tensors on GPU
tensor_E = torch.rand(size=(2, 3), device=device)
tensor_F = torch.rand(size=(2, 3), device=device)
tensor_E, tensor_F





# Perform matmul on tensor_A and tensor_B
tensor_G = tensor_E @ tensor_F.T
tensor_G





# Find max
max = tensor_G.max()
# Find min
min = torch.min(tensor_G)
max, min





# Find arg max
max_index = torch.argmax(tensor_G)
# Find arg min
min_index = tensor_G.argmin()
max_index, min_index





# Set seed
torch.manual_seed(10)

# Create random tensor
tensor_H = torch.rand(size=(1, 1, 1, 10))

# Remove single dimensions
tensor_I = tensor_H.squeeze()

# Print out tensors and their shapes
tensor_H, tensor_H.shape, tensor_I, tensor_I.shape
