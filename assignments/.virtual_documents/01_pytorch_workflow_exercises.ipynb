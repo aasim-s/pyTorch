





# Import necessary libraries
import torch 
from torch import nn
from pathlib import Path
import matplotlib.pyplot as plt


# Setup device-agnostic code
device = "cuda" if torch.cuda.is_available() else "cpu"





# Create the data par.0ameters
weight = 0.3
bias = 0.9
# Make X and y using linear regression feature
X = torch.arange(0, 1, 0.01)
y = weight * X + bias
print(f"Number of X samples: {len(X)}")
print(f"Number of y samples: {len(y)}")
print(f"First 10 X & y samples:\nX: {X[:10]}\ny: {y[:10]}")


# Split the data into training and testing
TRAIN_SPLIT = int(0.8*(len(X)))
X_train, y_train = X[:TRAIN_SPLIT], y[:TRAIN_SPLIT]
X_test, y_test = X[TRAIN_SPLIT:], y[TRAIN_SPLIT:]


# Plot the training and testing data 
def plot_predictions(train_data=X_train, train_labels=y_train,
                     test_data=X_test, test_labels=y_test, predictions=None):
    plt.figure(figsize=(10, 7))
    plt.scatter(train_data, train_labels, c="b", s=4, label="Training data")
    plt.scatter(test_data, test_labels, c="g", s=4, label="Test data")
    if predictions:
        plt.scatter(test_data, predictions, c="r", s=4, label="Predictions")
    plt.legend(prop={"size": 14})

plot_predictions()





# Create PyTorch linear regression model by subclassing nn.Module
class LineatRegressionModel(nn.Module):
    def __init__(self):
        super().__init()
        self.weight = nn.Parameter(torch.randn


# Instantiate the model and put it to the target device






# Create the loss function and optimizer



# Training loop


# Train model for 300 epochs


# Send data to target device


for epoch in range(epochs):
  ### Training

  # Put model in train mode
  

  # 1. Forward pass
  

  # 2. Calculate loss
  

  # 3. Zero gradients
  

  # 4. Backpropagation
  

  # 5. Step the optimizer
  

  ### Perform testing every 20 epochs
  if epoch % 20 == 0:

    # Put model in evaluation mode and setup inference context 
    
      # 1. Forward pass
      
      # 2. Calculate test loss

      # Print out what's happening
      print(f"Epoch: {epoch} | Train loss: {loss:.3f} | Test loss: {test_loss:.3f}")





# Make predictions with the model



# Plot the predictions (these may need to be on a specific device)






from pathlib import Path

# 1. Create models directory 


# 2. Create model save path 

# 3. Save the model state dict



# Create new instance of model and load saved state dict (make sure to put it on the target device)



# Make predictions with loaded model and compare them to the previous

